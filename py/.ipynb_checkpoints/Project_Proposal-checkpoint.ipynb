{
 "cells": [
  {
   "cell_type": "markdown",
   "id": "96ff42d0",
   "metadata": {},
   "source": [
    "## Final Project Proposal\n",
    "#### PPOL564 | Data Science 1 | Foundations\n",
    "##### Alia Abdelkader\n",
    "<br>\n",
    "\n",
    "Medicaid, America’s health insurance for low-income people, is a grant-aid-program funded jointly by the federal government and states. It is a **categorical grant**: recipients apply directly with their state Medicaid agency, and qualify based on their membership in eligible categories. Each state’s federal medical assistance percentage (FMAP), or portion of expenditures covered by the federal government (which by law must be at least 50%), is not capped and can be adjusted immediately to accommodate increases in state expenditures. The other type of federal grant program is called a **block grant**, which uses a formula to allocate a fixed portion of federal benefits to each state, giving states the autonomy to distribute it. There are currently 1,253 federally funded categorical grants and 21 block grants.[^1]\n",
    "\n",
    "What would happen if Medicaid became a block grant, as the Trump Administration and others have proposed? This is what I plan to investigate. With a block grant, if a state’s Medicaid costs exceeded the fixed allocations, it would cut into funding for other programs because states are obligated to balance their budgets annually, unlike the federal government. Block granting Medicaid would render it unable to dynamically accommodate the needs of Americans during times of crisis, like the ongoing COVID-19 pandemic. The Center for Medicare & Medicaid Services (CMS) projected that Medicaid expenditures would increase by 4.5% in 2020.[^2] In reality, Medicaid expenditures increased by 19.5% in Year 1 of the pandemic from 4/2020-4/2021.[^3]\n",
    "\n",
    "If Medicaid were a block grant, there would be a set amount in the federal budget allocated for Medicaid and each state would have received a fixed portion of that allocation. I propose to build a model to estimate what that funding formula would be: what percent of this hypothetical federal Medicaid budget would each state receive? I plan to use the following data to inform the model:\n",
    "\n",
    "- Medicaid eligibility and enrollment data by state, from data.medicaid.gov \n",
    "- FMAP and multiplier by state, from KFF\n",
    "- Income data by state, from the American Community Survey or Census, from IPUMS USA\n",
    "- Allocations of the 21 current block grant programs, each of which represents some federal benefit for low income households (ex: energy assistance, community development, childcare). Many of these datasets will be available for download but some web-scraping of tables or PDFs could also be required. I will wrangle these datasets to summarize the by-state-percentage funding formulas of these programs.\n",
    "\n",
    "I will use several visualizations, namely maps generated with GeoPandas, to summarize the current state of Medicaid as a categorical grant compared with the modeled block grant. I will validate my model by comparing the block grant allocations of the modeled funding formula with what would have been the actual Medicaid budget for states based on CMS’s 4.5% projected average growth. A successful outcome would be the ability to estimate how much each state would have exceeded its Medicaid budget in 2020 based on actual expenditures, to demonstrate exactly how detrimental block granting Medicaid would have been.\n",
    "\n",
    "[^1]: Congressional Research Service, __[*Block Grants: Perspectives and Controversies*](https://sgp.fas.org/crs/misc/R40486.pdf)__ \n",
    "[^2]: Center for Medicare & Medicaid Services, __[*National Health Expenditure Projections 2019-2028: Forecast Summary*](https://www.cms.gov/files/document/nhe-projections-2019-2028-forecast-summary.pdf)__\n",
    "[^3]: Kaiser Family Foundation, __[*Federal Medicaid Outlays During the COVID-19 Pandemic*](https://www.kff.org/coronavirus-covid-19/issue-brief/federal-medicaid-outlays-during-the-covid-19-pandemic/)__"
   ]
  }
 ],
 "metadata": {
  "kernelspec": {
   "display_name": "Python 3",
   "language": "python",
   "name": "python3"
  },
  "language_info": {
   "codemirror_mode": {
    "name": "ipython",
    "version": 3
   },
   "file_extension": ".py",
   "mimetype": "text/x-python",
   "name": "python",
   "nbconvert_exporter": "python",
   "pygments_lexer": "ipython3",
   "version": "3.8.8"
  }
 },
 "nbformat": 4,
 "nbformat_minor": 5
}
